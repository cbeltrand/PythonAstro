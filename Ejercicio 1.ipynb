{
 "cells": [
  {
   "cell_type": "code",
   "execution_count": null,
   "metadata": {},
   "outputs": [],
   "source": []
  },
  {
   "cell_type": "code",
   "execution_count": 16,
   "metadata": {},
   "outputs": [
    {
     "name": "stdout",
     "output_type": "stream",
     "text": [
      "La suma total es 100128 para N=447\n",
      "El arreglo suma tiene un largo de 447 que coincide con el valor de N=447\n"
     ]
    }
   ],
   "source": [
    "total = 0\n",
    "N = 0\n",
    "suma =[]\n",
    "while total < 100000:\n",
    "    N += 1\n",
    "    total = total + N\n",
    "    suma.append(total)\n",
    "\n",
    "print(\"La suma total es {} para N={}\".format(total,N))\n",
    "print(\"El arreglo suma tiene un largo de {} que coincide con el valor de N={}\".format(len(suma),N))\n"
   ]
  },
  {
   "cell_type": "code",
   "execution_count": null,
   "metadata": {},
   "outputs": [],
   "source": []
  }
 ],
 "metadata": {
  "kernelspec": {
   "display_name": "Python 3",
   "language": "python",
   "name": "python3"
  },
  "language_info": {
   "codemirror_mode": {
    "name": "ipython",
    "version": 3
   },
   "file_extension": ".py",
   "mimetype": "text/x-python",
   "name": "python",
   "nbconvert_exporter": "python",
   "pygments_lexer": "ipython3",
   "version": "3.8.5"
  }
 },
 "nbformat": 4,
 "nbformat_minor": 4
}
